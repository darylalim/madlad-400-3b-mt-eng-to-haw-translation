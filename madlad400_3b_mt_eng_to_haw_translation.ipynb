{
 "cells": [
  {
   "cell_type": "markdown",
   "id": "e6830b4d-cd2e-4547-b2ba-7c0192ee941a",
   "metadata": {},
   "source": [
    "# MADLAD-400-3B-MT English-to-Hawaiian Translation"
   ]
  },
  {
   "cell_type": "markdown",
   "id": "c07a6996-891a-45e0-bedd-10bcb36a5a2b",
   "metadata": {},
   "source": [
    "Translate English text to Hawaiian."
   ]
  },
  {
   "cell_type": "code",
   "execution_count": null,
   "id": "ff4687ec-c508-4a07-bd02-14f7c7d7d626",
   "metadata": {},
   "outputs": [],
   "source": [
    "# Install required libraries\n",
    "!pip3 -q install torch transformers accelerate sentencepiece tokenizers optimum gradio"
   ]
  },
  {
   "cell_type": "code",
   "execution_count": null,
   "id": "69f2a116-525a-4d8c-a1c0-2f0a86fd3554",
   "metadata": {},
   "outputs": [],
   "source": [
    "# Import modules\n",
    "import torch\n",
    "from transformers import AutoTokenizer, AutoModelForSeq2SeqLM\n",
    "from optimum.bettertransformer import BetterTransformer\n",
    "import gradio as gr"
   ]
  },
  {
   "cell_type": "code",
   "execution_count": null,
   "id": "dca84b3e-4665-4eff-9458-8cf10cd783ab",
   "metadata": {},
   "outputs": [],
   "source": [
    "# Load model directly\n",
    "tokenizer = AutoTokenizer.from_pretrained(\n",
    "    \"google/madlad400-3b-mt\",\n",
    "    use_fast=True\n",
    ")\n",
    "\n",
    "model_hf = AutoModelForSeq2SeqLM.from_pretrained(\n",
    "    \"google/madlad400-3b-mt\",\n",
    "    torch_dtype=torch.bfloat16\n",
    ")"
   ]
  },
  {
   "cell_type": "code",
   "execution_count": null,
   "id": "062971e3-cc8b-47cf-b453-d295042ead54",
   "metadata": {},
   "outputs": [],
   "source": [
    "# Use BetterTransformer\n",
    "model = BetterTransformer.transform(model_hf, keep_original=True)"
   ]
  },
  {
   "cell_type": "code",
   "execution_count": null,
   "id": "0200f589-7fb5-409c-b513-63eaaaa83331",
   "metadata": {},
   "outputs": [],
   "source": [
    "# Define function to translate English text to Hawaiian\n",
    "def translate(text):\n",
    "    \"\"\"\n",
    "    Translates the input text from English to Hawaiian.\n",
    "    \"\"\"\n",
    "    text = \"<2haw> \" + text\n",
    "    \n",
    "    inputs = tokenizer(\n",
    "        text,\n",
    "        return_tensors=\"pt\"\n",
    "    )\n",
    "    \n",
    "    outputs = model.generate(**inputs, max_new_tokens=1000)\n",
    "    text_translated = tokenizer.batch_decode(outputs, skip_special_tokens=True)\n",
    "    \n",
    "    return text_translated[0]"
   ]
  },
  {
   "cell_type": "code",
   "execution_count": null,
   "id": "a863999e-23a7-4e42-8219-c139aadd89ab",
   "metadata": {},
   "outputs": [],
   "source": [
    "# Define Gradio application\n",
    "demo = gr.Interface(\n",
    "    fn=translate,\n",
    "    inputs=[gr.Textbox(label=\"English\")],\n",
    "    outputs=[gr.Textbox(label=\"Hawaiian\")],\n",
    "    title=\"MADLAD-400-3B-MT English-to-Hawaiian Translation\",\n",
    "    description=\"[Code](https://github.com/darylalim/madlad-400-3b-mt-eng-to-haw-translation)\")"
   ]
  },
  {
   "cell_type": "code",
   "execution_count": null,
   "id": "1d810ea1-74ea-440f-aa64-e15f4630b0da",
   "metadata": {},
   "outputs": [],
   "source": [
    "# Set queue with default settings\n",
    "demo.queue()"
   ]
  },
  {
   "cell_type": "code",
   "execution_count": null,
   "id": "8ef17835-cda7-4879-a3f7-be2c776dae51",
   "metadata": {},
   "outputs": [],
   "source": [
    "# Launch Gradio application\n",
    "demo.launch()"
   ]
  },
  {
   "cell_type": "code",
   "execution_count": null,
   "id": "a413fac8-1703-451b-b22d-d659bcd88dc4",
   "metadata": {},
   "outputs": [],
   "source": [
    "# Close Gradio application\n",
    "demo.close()"
   ]
  },
  {
   "cell_type": "code",
   "execution_count": null,
   "id": "efda6a60-9492-40fe-a30f-286bb8b4c11b",
   "metadata": {},
   "outputs": [],
   "source": []
  }
 ],
 "metadata": {
  "kernelspec": {
   "display_name": "Python 3 (ipykernel)",
   "language": "python",
   "name": "python3"
  },
  "language_info": {
   "codemirror_mode": {
    "name": "ipython",
    "version": 3
   },
   "file_extension": ".py",
   "mimetype": "text/x-python",
   "name": "python",
   "nbconvert_exporter": "python",
   "pygments_lexer": "ipython3",
   "version": "3.12.2"
  }
 },
 "nbformat": 4,
 "nbformat_minor": 5
}
